{
 "cells": [
  {
   "cell_type": "markdown",
   "source": [
    "# Brain Tumor Detection with CNN"
   ],
   "metadata": {
    "id": "sDqzPdhkh_ts"
   },
   "id": "sDqzPdhkh_ts"
  },
  {
   "cell_type": "markdown",
   "source": [
    "#### 組員：羅際東、黃品慈、Calvin Tsai、何豐吉、Jean、Hao\n",
    "### Table of Contents\n",
    "\n",
    "\n",
    "1. 專案簡介及目標\n",
    "   1. 資料集說明\n",
    "   2. 何謂腦腫瘤\n",
    "2. 建立環境\n",
    "3. 資料載入及資料增強\n",
    "4. CNN 模型\n",
    "    1. vgg16模型\n",
    "    2. 一般自定義模型\n",
    "    3. 效能評估\n",
    "5. 總結\n",
    "6. 資料來源"
   ],
   "metadata": {
    "collapsed": false,
    "id": "dfc8bc167cde1446"
   },
   "id": "dfc8bc167cde1446"
  },
  {
   "cell_type": "markdown",
   "source": [
    "# 1.專案簡介及目標\n",
    "這個專案的主要目的是建立一個卷積神經網絡(CNN)模型,根據MRI掃描判斷受測者是否患有腫瘤。本專案使用了CNN和DNN對這個二元問題進行建模與訓練。最後將以**準確度**作為評估模型效能的指標"
   ],
   "metadata": {
    "id": "xf0vbxgFiSlP"
   },
   "id": "xf0vbxgFiSlP"
  },
  {
   "cell_type": "markdown",
   "source": [
    "## 1.1 資料集說明\n",
    "本專案的影像使用的是Kaggle資料集[Brain MRI Images for Brain Tumor Detection](https://www.kaggle.com/datasets/navoneel/brain-mri-images-for-brain-tumor-detection?select=yes)。總共分兩類:\n",
    "\n",
    "\n",
    "*   `NO` - 沒有腦腫瘤\n",
    "*   `Yes` - 有腦腫瘤\n",
    "\n",
    "註: 該資料集作者並未說明腦腫瘤影像的出處"
   ],
   "metadata": {
    "id": "cwaorS2ojjFo"
   },
   "id": "cwaorS2ojjFo"
  },
  {
   "cell_type": "markdown",
   "source": [
    "## 1.2 何謂腦腫瘤\n",
    "當大腦內形成異常細胞時，就會發生腦腫瘤。腫瘤主要有兩種：惡性腫瘤和良性（非癌性）腫瘤。這些腫瘤可以進一步分為原發性腫瘤（起始於腦內）和繼發性腫瘤（最常見的是從位於腦外的腫瘤擴散，稱為腦轉移瘤）。所有類型的腦腫瘤都可能產生不同的症狀，這取決於腫瘤的大小和所涉及的大腦部分。如果有症狀，可能包括頭痛、癲癇發作、視力問題、嘔吐和精神變化。其他症狀可能包括行走困難、說話困難、有感覺或失去知覺。\n",
    "\n",
    "![Hirnmetastase_MRT-T1_KM.jpg](data:image/jpeg;base64,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)\n",
    "\n",
    "Source: [Wikipedia](https://en.wikipedia.org/wiki/Brain_tumor)"
   ],
   "metadata": {
    "id": "6hPwMlZZkxiu"
   },
   "id": "6hPwMlZZkxiu"
  },
  {
   "cell_type": "markdown",
   "source": [
    "# 2.建立環境\n"
   ],
   "metadata": {
    "id": "0w4ywIlsl_av"
   },
   "id": "0w4ywIlsl_av"
  },
  {
   "cell_type": "code",
   "source": [
    "from IPython.display import clear_output\n",
    "!pip install imutils\n",
    "clear_output()"
   ],
   "metadata": {
    "id": "yM7TQXynnOHo"
   },
   "id": "yM7TQXynnOHo",
   "execution_count": 11,
   "outputs": []
  },
  {
   "cell_type": "code",
   "execution_count": 1,
   "outputs": [],
   "source": [
    "import cv2\n",
    "import os\n",
    "from glob import glob\n",
    "import numpy as np\n",
    "import pandas as pd\n",
    "from matplotlib import pyplot as plt\n",
    "import tensorflow as tf\n",
    "import keras\n",
    "from keras.models import Sequential\n",
    "from keras.layers import Conv2D, MaxPooling2D, Dropout, Flatten, Dense\n",
    "from keras.utils import to_categorical\n",
    "from keras.callbacks import EarlyStopping,ModelCheckpoint\n",
    "from keras.preprocessing.image import ImageDataGenerator\n",
    "from keras.callbacks import ReduceLROnPlateau\n",
    "from sklearn.model_selection import train_test_split\n",
    "from sklearn.preprocessing import LabelEncoder, StandardScaler\n",
    "from keras.applications.vgg16 import VGG16"
   ],
   "metadata": {
    "ExecuteTime": {
     "end_time": "2023-11-10T17:14:59.956911Z",
     "start_time": "2023-11-10T17:14:59.952955Z"
    },
    "id": "5471815310c68d8b"
   },
   "id": "5471815310c68d8b"
  },
  {
   "cell_type": "code",
   "source": [
    "# 使用 google colab 時 mount 資料夾\n",
    "from google.colab import drive\n",
    "drive.mount('/content/drive')"
   ],
   "metadata": {
    "colab": {
     "base_uri": "https://localhost:8080/"
    },
    "id": "2vPyjwWfRS8z",
    "outputId": "29f77a5f-5deb-42f4-8291-f012dfd6a1e0"
   },
   "id": "2vPyjwWfRS8z",
   "execution_count": 2,
   "outputs": [
    {
     "output_type": "stream",
     "name": "stdout",
     "text": [
      "Mounted at /content/drive\n"
     ]
    }
   ]
  },
  {
   "cell_type": "code",
   "source": [
    "# 使用 google colab 時查看目錄結構\n",
    "!apt-get install tree\n",
    "clear_output()\n",
    "# 展示目錄結構\n",
    "%cd /content/drive/MyDrive/Colab Notebooks/brain_tumor_dataset\n",
    "!tree -d"
   ],
   "metadata": {
    "colab": {
     "base_uri": "https://localhost:8080/"
    },
    "id": "wtO98v82m-vD",
    "outputId": "a3c7b041-66b7-4c72-9064-ce3b29e0ecb2"
   },
   "id": "wtO98v82m-vD",
   "execution_count": 14,
   "outputs": [
    {
     "output_type": "stream",
     "name": "stdout",
     "text": [
      "/content/drive/MyDrive/Colab Notebooks/brain_tumor_dataset\n",
      "\u001B[01;34m.\u001B[0m\n",
      "├── \u001B[01;34mmodel_output\u001B[0m\n",
      "│   └── \u001B[01;34mconv\u001B[0m\n",
      "├── \u001B[01;34mtest\u001B[0m\n",
      "│   ├── \u001B[01;34mno\u001B[0m\n",
      "│   └── \u001B[01;34myes\u001B[0m\n",
      "├── \u001B[01;34mtrain\u001B[0m\n",
      "│   ├── \u001B[01;34mno\u001B[0m\n",
      "│   └── \u001B[01;34myes\u001B[0m\n",
      "└── \u001B[01;34mvalid\u001B[0m\n",
      "    ├── \u001B[01;34mno\u001B[0m\n",
      "    └── \u001B[01;34myes\u001B[0m\n",
      "\n",
      "11 directories\n"
     ]
    }
   ]
  },
  {
   "cell_type": "code",
   "execution_count": 1,
   "outputs": [],
   "source": [
    "# 建立 輸出權重目錄位置(output_dir)、影像長寬(img_height, img_width)、資料集路徑(data_dir)\n",
    "output_dir = '/content/drive/MyDrive/Colab Notebooks/brain_tumor_dataset/model_output/conv'\n",
    "(img_height, img_width) = 224,224\n",
    "data_dir = \"/content/drive/MyDrive/Colab Notebooks/brain_tumor_dataset\""
   ],
   "metadata": {
    "colab": {
     "base_uri": "https://localhost:8080/"
    },
    "id": "4da9b754f97ece71",
    "outputId": "bf23c0da-3460-43b1-f061-42c2b16672bb",
    "ExecuteTime": {
     "end_time": "2023-11-12T18:12:01.099092Z",
     "start_time": "2023-11-12T18:12:01.096191Z"
    }
   },
   "id": "4da9b754f97ece71"
  },
  {
   "cell_type": "markdown",
   "source": [
    "# 3.資料載入及資料增強"
   ],
   "metadata": {
    "collapsed": false,
    "id": "86834f3fec82c40"
   },
   "id": "86834f3fec82c40"
  },
  {
   "cell_type": "code",
   "execution_count": 4,
   "outputs": [],
   "source": [
    "# 利用ImageDataGenerator 進行圖片的前處理，rescale正規化，rotation_range旋轉，width_shift_range水平位置平移，height_shift_range上下位置平移，shear_range推移，zoom_range放大縮小，horizontal_flip左右翻轉，vertical_flip上下翻轉\n",
    "train_datagen = ImageDataGenerator(rescale=1./255,\n",
    "                                   rotation_range=15,\n",
    "                                   width_shift_range=0.2,\n",
    "                                   height_shift_range=0.2,\n",
    "                                   shear_range=0.2,\n",
    "                                   zoom_range=0.2,\n",
    "                                   horizontal_flip=True,\n",
    "                                   vertical_flip = True)\n",
    "test_datagen = ImageDataGenerator(rescale=1./255)"
   ],
   "metadata": {
    "ExecuteTime": {
     "end_time": "2023-11-10T17:15:03.757446Z",
     "start_time": "2023-11-10T17:15:03.752357Z"
    },
    "id": "ebcc57abee13ae57"
   },
   "id": "ebcc57abee13ae57"
  },
  {
   "cell_type": "code",
   "execution_count": 22,
   "outputs": [
    {
     "output_type": "stream",
     "name": "stdout",
     "text": [
      "Found 166 images belonging to 2 classes.\n",
      "[0 0 0 0 0 0 0 0 0 0 0 0 0 0 0 0 0 0 0 0 0 0 0 0 0 0 0 0 0 0 0 0 0 0 0 0 0\n",
      " 0 0 0 0 0 0 0 0 0 0 0 0 0 0 0 0 0 0 0 0 0 0 0 0 0 0 0 1 1 1 1 1 1 1 1 1 1\n",
      " 1 1 1 1 1 1 1 1 1 1 1 1 1 1 1 1 1 1 1 1 1 1 1 1 1 1 1 1 1 1 1 1 1 1 1 1 1\n",
      " 1 1 1 1 1 1 1 1 1 1 1 1 1 1 1 1 1 1 1 1 1 1 1 1 1 1 1 1 1 1 1 1 1 1 1 1 1\n",
      " 1 1 1 1 1 1 1 1 1 1 1 1 1 1 1 1 1 1]\n"
     ]
    }
   ],
   "source": [
    "train_set = train_datagen.flow_from_directory(data_dir+\"/train\",\n",
    "                                              target_size=(img_height, img_width),\n",
    "                                              batch_size=32,\n",
    "                                              class_mode=\"categorical\",\n",
    "                                              color_mode=\"grayscale\",\n",
    "                                              shuffle=True)\n",
    "# 查看train_set的 label\n",
    "print(train_set.labels)"
   ],
   "metadata": {
    "ExecuteTime": {
     "end_time": "2023-11-10T17:15:04.400466Z",
     "start_time": "2023-11-10T17:15:04.378282Z"
    },
    "colab": {
     "base_uri": "https://localhost:8080/"
    },
    "id": "2df18f12036df35c",
    "outputId": "ce5f2fdf-a0cb-475d-ba4f-0d51e97a2b94"
   },
   "id": "2df18f12036df35c"
  },
  {
   "cell_type": "code",
   "execution_count": 6,
   "outputs": [
    {
     "output_type": "stream",
     "name": "stdout",
     "text": [
      "Found 56 images belonging to 2 classes.\n"
     ]
    }
   ],
   "source": [
    "test_set = test_datagen.flow_from_directory(data_dir+\"/test\",\n",
    "                                            target_size=(img_height,img_width),\n",
    "                                            batch_size=32,\n",
    "                                            class_mode='categorical',color_mode=\"grayscale\")"
   ],
   "metadata": {
    "ExecuteTime": {
     "end_time": "2023-11-10T17:15:04.714425Z",
     "start_time": "2023-11-10T17:15:04.704605Z"
    },
    "colab": {
     "base_uri": "https://localhost:8080/"
    },
    "id": "827f06f82e0be459",
    "outputId": "68981e5e-43be-4d6e-fa8a-0805364059a9"
   },
   "id": "827f06f82e0be459"
  },
  {
   "cell_type": "markdown",
   "source": [
    "# 4.CNN 模型"
   ],
   "metadata": {
    "id": "x_sNWGemp-5U"
   },
   "id": "x_sNWGemp-5U"
  },
  {
   "cell_type": "markdown",
   "source": [
    "## 4.1 vgg16模型"
   ],
   "metadata": {
    "id": "jEe7yZJ7qua5"
   },
   "id": "jEe7yZJ7qua5"
  },
  {
   "cell_type": "code",
   "execution_count": null,
   "outputs": [],
   "source": [
    "# 使用vgg16\n",
    "model = Sequential()\n",
    "model.add(Conv2D(input_shape=(224,224,1),filters=64,kernel_size=(3,3),padding=\"same\", activation=\"relu\"))\n",
    "model.add(Conv2D(filters=64,kernel_size=(3,3),padding=\"same\", activation=\"relu\"))\n",
    "model.add(MaxPooling2D(pool_size=(2,2),strides=(2,2)))\n",
    "model.add(Conv2D(filters=128, kernel_size=(3,3), padding=\"same\", activation=\"relu\"))\n",
    "model.add(Conv2D(filters=128, kernel_size=(3,3), padding=\"same\", activation=\"relu\"))\n",
    "model.add(MaxPooling2D(pool_size=(2,2),strides=(2,2)))\n",
    "model.add(Conv2D(filters=256, kernel_size=(3,3), padding=\"same\", activation=\"relu\"))\n",
    "model.add(Conv2D(filters=256, kernel_size=(3,3), padding=\"same\", activation=\"relu\"))\n",
    "model.add(Conv2D(filters=256, kernel_size=(3,3), padding=\"same\", activation=\"relu\"))\n",
    "model.add(MaxPooling2D(pool_size=(2,2),strides=(2,2)))\n",
    "model.add(Conv2D(filters=512, kernel_size=(3,3), padding=\"same\", activation=\"relu\"))\n",
    "model.add(Conv2D(filters=512, kernel_size=(3,3), padding=\"same\", activation=\"relu\"))\n",
    "model.add(Conv2D(filters=512, kernel_size=(3,3), padding=\"same\", activation=\"relu\"))\n",
    "model.add(MaxPooling2D(pool_size=(2,2),strides=(2,2)))\n",
    "model.add(Conv2D(filters=512, kernel_size=(3,3), padding=\"same\", activation=\"relu\"))\n",
    "model.add(Conv2D(filters=512, kernel_size=(3,3), padding=\"same\", activation=\"relu\"))\n",
    "model.add(Conv2D(filters=512, kernel_size=(3,3), padding=\"same\", activation=\"relu\"))\n",
    "model.add(MaxPooling2D(pool_size=(2,2),strides=(2,2)))\n",
    "\n",
    "model.add(Flatten())\n",
    "model.add(Dense(units=4096,activation=\"relu\"))\n",
    "model.add(Dense(units=4096,activation=\"relu\"))\n",
    "model.add(Dense(units=2, activation=\"softmax\"))\n",
    "\n",
    "model.compile(loss=\"categorical_crossentropy\",optimizer=\"adam\",metrics=[\"accuracy\"])\n",
    "model.summary()\n",
    "LR_function=ReduceLROnPlateau(monitor='val_acc',\n",
    "                              patience=3,\n",
    "                              # 3 epochs 內acc沒下降就要調整LR\n",
    "                              verbose=1,\n",
    "                              factor=0.5,\n",
    "                              # LR降為0.5\n",
    "                              min_lr=0.00001\n",
    "                              # 最小 LR 到0.00001就不再下降\n",
    "                              )\n",
    "history = model.fit(train_set,validation_data=test_set,epochs=20,batch_size=32,verbose=2,callbacks=[LR_function])"
   ],
   "metadata": {
    "collapsed": false
   },
   "id": "76459b9aa3db38c5"
  },
  {
   "cell_type": "markdown",
   "source": [
    "## 4.2 一般自定義模型"
   ],
   "metadata": {
    "collapsed": false
   },
   "id": "b381b55fbd6928cd"
  },
  {
   "cell_type": "code",
   "execution_count": 8,
   "outputs": [
    {
     "output_type": "stream",
     "name": "stdout",
     "text": [
      "Model: \"sequential\"\n",
      "_________________________________________________________________\n",
      " Layer (type)                Output Shape              Param #   \n",
      "=================================================================\n",
      " conv2d (Conv2D)             (None, 224, 224, 32)      320       \n",
      "                                                                 \n",
      " max_pooling2d (MaxPooling2  (None, 112, 112, 32)      0         \n",
      " D)                                                              \n",
      "                                                                 \n",
      " conv2d_1 (Conv2D)           (None, 112, 112, 64)      18496     \n",
      "                                                                 \n",
      " max_pooling2d_1 (MaxPoolin  (None, 56, 56, 64)        0         \n",
      " g2D)                                                            \n",
      "                                                                 \n",
      " dropout (Dropout)           (None, 56, 56, 64)        0         \n",
      "                                                                 \n",
      " conv2d_2 (Conv2D)           (None, 56, 56, 64)        36928     \n",
      "                                                                 \n",
      " max_pooling2d_2 (MaxPoolin  (None, 11, 11, 64)        0         \n",
      " g2D)                                                            \n",
      "                                                                 \n",
      " flatten (Flatten)           (None, 7744)              0         \n",
      "                                                                 \n",
      " dense (Dense)               (None, 512)               3965440   \n",
      "                                                                 \n",
      " dropout_1 (Dropout)         (None, 512)               0         \n",
      "                                                                 \n",
      " dense_1 (Dense)             (None, 2)                 1026      \n",
      "                                                                 \n",
      "=================================================================\n",
      "Total params: 4022210 (15.34 MB)\n",
      "Trainable params: 4022210 (15.34 MB)\n",
      "Non-trainable params: 0 (0.00 Byte)\n",
      "_________________________________________________________________\n",
      "Epoch 1/50\n"
     ]
    },
    {
     "output_type": "stream",
     "name": "stderr",
     "text": [
      "WARNING:tensorflow:Learning rate reduction is conditioned on metric `val_acc` which is not available. Available metrics are: loss,accuracy,val_loss,val_accuracy,lr\n"
     ]
    },
    {
     "output_type": "stream",
     "name": "stdout",
     "text": [
      "6/6 - 33s - loss: 1.3659 - accuracy: 0.4217 - val_loss: 0.6913 - val_accuracy: 0.5000 - lr: 0.0010 - 33s/epoch - 5s/step\n",
      "Epoch 2/50\n"
     ]
    },
    {
     "output_type": "stream",
     "name": "stderr",
     "text": [
      "WARNING:tensorflow:Learning rate reduction is conditioned on metric `val_acc` which is not available. Available metrics are: loss,accuracy,val_loss,val_accuracy,lr\n"
     ]
    },
    {
     "output_type": "stream",
     "name": "stdout",
     "text": [
      "6/6 - 23s - loss: 0.6798 - accuracy: 0.5663 - val_loss: 0.6650 - val_accuracy: 0.6071 - lr: 0.0010 - 23s/epoch - 4s/step\n",
      "Epoch 3/50\n"
     ]
    },
    {
     "output_type": "stream",
     "name": "stderr",
     "text": [
      "WARNING:tensorflow:Learning rate reduction is conditioned on metric `val_acc` which is not available. Available metrics are: loss,accuracy,val_loss,val_accuracy,lr\n"
     ]
    },
    {
     "output_type": "stream",
     "name": "stdout",
     "text": [
      "6/6 - 22s - loss: 0.6504 - accuracy: 0.6205 - val_loss: 0.6654 - val_accuracy: 0.6071 - lr: 0.0010 - 22s/epoch - 4s/step\n",
      "Epoch 4/50\n"
     ]
    },
    {
     "output_type": "stream",
     "name": "stderr",
     "text": [
      "WARNING:tensorflow:Learning rate reduction is conditioned on metric `val_acc` which is not available. Available metrics are: loss,accuracy,val_loss,val_accuracy,lr\n"
     ]
    },
    {
     "output_type": "stream",
     "name": "stdout",
     "text": [
      "6/6 - 21s - loss: 0.6324 - accuracy: 0.6145 - val_loss: 0.6784 - val_accuracy: 0.6071 - lr: 0.0010 - 21s/epoch - 4s/step\n",
      "Epoch 5/50\n"
     ]
    },
    {
     "output_type": "stream",
     "name": "stderr",
     "text": [
      "WARNING:tensorflow:Learning rate reduction is conditioned on metric `val_acc` which is not available. Available metrics are: loss,accuracy,val_loss,val_accuracy,lr\n"
     ]
    },
    {
     "output_type": "stream",
     "name": "stdout",
     "text": [
      "6/6 - 21s - loss: 0.6404 - accuracy: 0.6145 - val_loss: 0.6583 - val_accuracy: 0.6071 - lr: 0.0010 - 21s/epoch - 4s/step\n",
      "Epoch 6/50\n"
     ]
    },
    {
     "output_type": "stream",
     "name": "stderr",
     "text": [
      "WARNING:tensorflow:Learning rate reduction is conditioned on metric `val_acc` which is not available. Available metrics are: loss,accuracy,val_loss,val_accuracy,lr\n"
     ]
    },
    {
     "output_type": "stream",
     "name": "stdout",
     "text": [
      "6/6 - 21s - loss: 0.6450 - accuracy: 0.6145 - val_loss: 0.6832 - val_accuracy: 0.6607 - lr: 0.0010 - 21s/epoch - 4s/step\n",
      "Epoch 7/50\n"
     ]
    },
    {
     "output_type": "stream",
     "name": "stderr",
     "text": [
      "WARNING:tensorflow:Learning rate reduction is conditioned on metric `val_acc` which is not available. Available metrics are: loss,accuracy,val_loss,val_accuracy,lr\n"
     ]
    },
    {
     "output_type": "stream",
     "name": "stdout",
     "text": [
      "6/6 - 20s - loss: 0.6361 - accuracy: 0.6325 - val_loss: 0.6817 - val_accuracy: 0.8214 - lr: 0.0010 - 20s/epoch - 3s/step\n",
      "Epoch 8/50\n"
     ]
    },
    {
     "output_type": "stream",
     "name": "stderr",
     "text": [
      "WARNING:tensorflow:Learning rate reduction is conditioned on metric `val_acc` which is not available. Available metrics are: loss,accuracy,val_loss,val_accuracy,lr\n"
     ]
    },
    {
     "output_type": "stream",
     "name": "stdout",
     "text": [
      "6/6 - 21s - loss: 0.6336 - accuracy: 0.6506 - val_loss: 0.6478 - val_accuracy: 0.6250 - lr: 0.0010 - 21s/epoch - 3s/step\n",
      "Epoch 9/50\n"
     ]
    },
    {
     "output_type": "stream",
     "name": "stderr",
     "text": [
      "WARNING:tensorflow:Learning rate reduction is conditioned on metric `val_acc` which is not available. Available metrics are: loss,accuracy,val_loss,val_accuracy,lr\n"
     ]
    },
    {
     "output_type": "stream",
     "name": "stdout",
     "text": [
      "6/6 - 21s - loss: 0.6514 - accuracy: 0.6205 - val_loss: 0.6586 - val_accuracy: 0.6786 - lr: 0.0010 - 21s/epoch - 4s/step\n",
      "Epoch 10/50\n"
     ]
    },
    {
     "output_type": "stream",
     "name": "stderr",
     "text": [
      "WARNING:tensorflow:Learning rate reduction is conditioned on metric `val_acc` which is not available. Available metrics are: loss,accuracy,val_loss,val_accuracy,lr\n"
     ]
    },
    {
     "output_type": "stream",
     "name": "stdout",
     "text": [
      "6/6 - 21s - loss: 0.6373 - accuracy: 0.6386 - val_loss: 0.6858 - val_accuracy: 0.7679 - lr: 0.0010 - 21s/epoch - 4s/step\n",
      "Epoch 11/50\n"
     ]
    },
    {
     "output_type": "stream",
     "name": "stderr",
     "text": [
      "WARNING:tensorflow:Learning rate reduction is conditioned on metric `val_acc` which is not available. Available metrics are: loss,accuracy,val_loss,val_accuracy,lr\n"
     ]
    },
    {
     "output_type": "stream",
     "name": "stdout",
     "text": [
      "6/6 - 20s - loss: 0.6514 - accuracy: 0.6024 - val_loss: 0.6849 - val_accuracy: 0.7679 - lr: 0.0010 - 20s/epoch - 3s/step\n",
      "Epoch 12/50\n"
     ]
    },
    {
     "output_type": "stream",
     "name": "stderr",
     "text": [
      "WARNING:tensorflow:Learning rate reduction is conditioned on metric `val_acc` which is not available. Available metrics are: loss,accuracy,val_loss,val_accuracy,lr\n"
     ]
    },
    {
     "output_type": "stream",
     "name": "stdout",
     "text": [
      "6/6 - 21s - loss: 0.6561 - accuracy: 0.6084 - val_loss: 0.6923 - val_accuracy: 0.4821 - lr: 0.0010 - 21s/epoch - 4s/step\n",
      "Epoch 13/50\n"
     ]
    },
    {
     "output_type": "stream",
     "name": "stderr",
     "text": [
      "WARNING:tensorflow:Learning rate reduction is conditioned on metric `val_acc` which is not available. Available metrics are: loss,accuracy,val_loss,val_accuracy,lr\n"
     ]
    },
    {
     "output_type": "stream",
     "name": "stdout",
     "text": [
      "6/6 - 21s - loss: 0.6530 - accuracy: 0.6145 - val_loss: 0.6866 - val_accuracy: 0.7500 - lr: 0.0010 - 21s/epoch - 4s/step\n",
      "Epoch 14/50\n"
     ]
    },
    {
     "output_type": "stream",
     "name": "stderr",
     "text": [
      "WARNING:tensorflow:Learning rate reduction is conditioned on metric `val_acc` which is not available. Available metrics are: loss,accuracy,val_loss,val_accuracy,lr\n"
     ]
    },
    {
     "output_type": "stream",
     "name": "stdout",
     "text": [
      "6/6 - 21s - loss: 0.6275 - accuracy: 0.6325 - val_loss: 0.6674 - val_accuracy: 0.7321 - lr: 0.0010 - 21s/epoch - 4s/step\n",
      "Epoch 15/50\n"
     ]
    },
    {
     "output_type": "stream",
     "name": "stderr",
     "text": [
      "WARNING:tensorflow:Learning rate reduction is conditioned on metric `val_acc` which is not available. Available metrics are: loss,accuracy,val_loss,val_accuracy,lr\n"
     ]
    },
    {
     "output_type": "stream",
     "name": "stdout",
     "text": [
      "6/6 - 21s - loss: 0.6365 - accuracy: 0.6205 - val_loss: 0.6716 - val_accuracy: 0.7500 - lr: 0.0010 - 21s/epoch - 4s/step\n",
      "Epoch 16/50\n"
     ]
    },
    {
     "output_type": "stream",
     "name": "stderr",
     "text": [
      "WARNING:tensorflow:Learning rate reduction is conditioned on metric `val_acc` which is not available. Available metrics are: loss,accuracy,val_loss,val_accuracy,lr\n"
     ]
    },
    {
     "output_type": "stream",
     "name": "stdout",
     "text": [
      "6/6 - 24s - loss: 0.6279 - accuracy: 0.6687 - val_loss: 0.6469 - val_accuracy: 0.7143 - lr: 0.0010 - 24s/epoch - 4s/step\n",
      "Epoch 17/50\n"
     ]
    },
    {
     "output_type": "stream",
     "name": "stderr",
     "text": [
      "WARNING:tensorflow:Learning rate reduction is conditioned on metric `val_acc` which is not available. Available metrics are: loss,accuracy,val_loss,val_accuracy,lr\n"
     ]
    },
    {
     "output_type": "stream",
     "name": "stdout",
     "text": [
      "6/6 - 21s - loss: 0.6183 - accuracy: 0.6747 - val_loss: 0.6595 - val_accuracy: 0.7321 - lr: 0.0010 - 21s/epoch - 4s/step\n",
      "Epoch 18/50\n"
     ]
    },
    {
     "output_type": "stream",
     "name": "stderr",
     "text": [
      "WARNING:tensorflow:Learning rate reduction is conditioned on metric `val_acc` which is not available. Available metrics are: loss,accuracy,val_loss,val_accuracy,lr\n"
     ]
    },
    {
     "output_type": "stream",
     "name": "stdout",
     "text": [
      "6/6 - 21s - loss: 0.6290 - accuracy: 0.6566 - val_loss: 0.6818 - val_accuracy: 0.7321 - lr: 0.0010 - 21s/epoch - 4s/step\n",
      "Epoch 19/50\n"
     ]
    },
    {
     "output_type": "stream",
     "name": "stderr",
     "text": [
      "WARNING:tensorflow:Learning rate reduction is conditioned on metric `val_acc` which is not available. Available metrics are: loss,accuracy,val_loss,val_accuracy,lr\n"
     ]
    },
    {
     "output_type": "stream",
     "name": "stdout",
     "text": [
      "6/6 - 24s - loss: 0.6338 - accuracy: 0.6988 - val_loss: 0.6665 - val_accuracy: 0.7679 - lr: 0.0010 - 24s/epoch - 4s/step\n",
      "Epoch 20/50\n"
     ]
    },
    {
     "output_type": "stream",
     "name": "stderr",
     "text": [
      "WARNING:tensorflow:Learning rate reduction is conditioned on metric `val_acc` which is not available. Available metrics are: loss,accuracy,val_loss,val_accuracy,lr\n"
     ]
    },
    {
     "output_type": "stream",
     "name": "stdout",
     "text": [
      "6/6 - 25s - loss: 0.6539 - accuracy: 0.6446 - val_loss: 0.6403 - val_accuracy: 0.7500 - lr: 0.0010 - 25s/epoch - 4s/step\n",
      "Epoch 21/50\n"
     ]
    },
    {
     "output_type": "stream",
     "name": "stderr",
     "text": [
      "WARNING:tensorflow:Learning rate reduction is conditioned on metric `val_acc` which is not available. Available metrics are: loss,accuracy,val_loss,val_accuracy,lr\n"
     ]
    },
    {
     "output_type": "stream",
     "name": "stdout",
     "text": [
      "6/6 - 21s - loss: 0.6265 - accuracy: 0.6325 - val_loss: 0.6593 - val_accuracy: 0.7500 - lr: 0.0010 - 21s/epoch - 4s/step\n",
      "Epoch 22/50\n"
     ]
    },
    {
     "output_type": "stream",
     "name": "stderr",
     "text": [
      "WARNING:tensorflow:Learning rate reduction is conditioned on metric `val_acc` which is not available. Available metrics are: loss,accuracy,val_loss,val_accuracy,lr\n"
     ]
    },
    {
     "output_type": "stream",
     "name": "stdout",
     "text": [
      "6/6 - 21s - loss: 0.6330 - accuracy: 0.6265 - val_loss: 0.6784 - val_accuracy: 0.7500 - lr: 0.0010 - 21s/epoch - 4s/step\n",
      "Epoch 23/50\n"
     ]
    },
    {
     "output_type": "stream",
     "name": "stderr",
     "text": [
      "WARNING:tensorflow:Learning rate reduction is conditioned on metric `val_acc` which is not available. Available metrics are: loss,accuracy,val_loss,val_accuracy,lr\n"
     ]
    },
    {
     "output_type": "stream",
     "name": "stdout",
     "text": [
      "6/6 - 21s - loss: 0.6260 - accuracy: 0.6807 - val_loss: 0.6419 - val_accuracy: 0.7857 - lr: 0.0010 - 21s/epoch - 4s/step\n",
      "Epoch 24/50\n"
     ]
    },
    {
     "output_type": "stream",
     "name": "stderr",
     "text": [
      "WARNING:tensorflow:Learning rate reduction is conditioned on metric `val_acc` which is not available. Available metrics are: loss,accuracy,val_loss,val_accuracy,lr\n"
     ]
    },
    {
     "output_type": "stream",
     "name": "stdout",
     "text": [
      "6/6 - 24s - loss: 0.6309 - accuracy: 0.6386 - val_loss: 0.6034 - val_accuracy: 0.7143 - lr: 0.0010 - 24s/epoch - 4s/step\n",
      "Epoch 25/50\n"
     ]
    },
    {
     "output_type": "stream",
     "name": "stderr",
     "text": [
      "WARNING:tensorflow:Learning rate reduction is conditioned on metric `val_acc` which is not available. Available metrics are: loss,accuracy,val_loss,val_accuracy,lr\n"
     ]
    },
    {
     "output_type": "stream",
     "name": "stdout",
     "text": [
      "6/6 - 21s - loss: 0.6747 - accuracy: 0.5663 - val_loss: 0.6536 - val_accuracy: 0.7500 - lr: 0.0010 - 21s/epoch - 3s/step\n",
      "Epoch 26/50\n"
     ]
    },
    {
     "output_type": "stream",
     "name": "stderr",
     "text": [
      "WARNING:tensorflow:Learning rate reduction is conditioned on metric `val_acc` which is not available. Available metrics are: loss,accuracy,val_loss,val_accuracy,lr\n"
     ]
    },
    {
     "output_type": "stream",
     "name": "stdout",
     "text": [
      "6/6 - 20s - loss: 0.6421 - accuracy: 0.7048 - val_loss: 0.6244 - val_accuracy: 0.7321 - lr: 0.0010 - 20s/epoch - 3s/step\n",
      "Epoch 27/50\n"
     ]
    },
    {
     "output_type": "stream",
     "name": "stderr",
     "text": [
      "WARNING:tensorflow:Learning rate reduction is conditioned on metric `val_acc` which is not available. Available metrics are: loss,accuracy,val_loss,val_accuracy,lr\n"
     ]
    },
    {
     "output_type": "stream",
     "name": "stdout",
     "text": [
      "6/6 - 20s - loss: 0.6217 - accuracy: 0.6566 - val_loss: 0.6056 - val_accuracy: 0.6964 - lr: 0.0010 - 20s/epoch - 3s/step\n",
      "Epoch 28/50\n"
     ]
    },
    {
     "output_type": "stream",
     "name": "stderr",
     "text": [
      "WARNING:tensorflow:Learning rate reduction is conditioned on metric `val_acc` which is not available. Available metrics are: loss,accuracy,val_loss,val_accuracy,lr\n"
     ]
    },
    {
     "output_type": "stream",
     "name": "stdout",
     "text": [
      "6/6 - 20s - loss: 0.6065 - accuracy: 0.6928 - val_loss: 0.6195 - val_accuracy: 0.8036 - lr: 0.0010 - 20s/epoch - 3s/step\n",
      "Epoch 29/50\n"
     ]
    },
    {
     "output_type": "stream",
     "name": "stderr",
     "text": [
      "WARNING:tensorflow:Learning rate reduction is conditioned on metric `val_acc` which is not available. Available metrics are: loss,accuracy,val_loss,val_accuracy,lr\n"
     ]
    },
    {
     "output_type": "stream",
     "name": "stdout",
     "text": [
      "6/6 - 20s - loss: 0.6215 - accuracy: 0.6867 - val_loss: 0.6045 - val_accuracy: 0.8214 - lr: 0.0010 - 20s/epoch - 3s/step\n",
      "Epoch 30/50\n"
     ]
    },
    {
     "output_type": "stream",
     "name": "stderr",
     "text": [
      "WARNING:tensorflow:Learning rate reduction is conditioned on metric `val_acc` which is not available. Available metrics are: loss,accuracy,val_loss,val_accuracy,lr\n"
     ]
    },
    {
     "output_type": "stream",
     "name": "stdout",
     "text": [
      "6/6 - 21s - loss: 0.5867 - accuracy: 0.7470 - val_loss: 0.5488 - val_accuracy: 0.7679 - lr: 0.0010 - 21s/epoch - 3s/step\n",
      "Epoch 31/50\n"
     ]
    },
    {
     "output_type": "stream",
     "name": "stderr",
     "text": [
      "WARNING:tensorflow:Learning rate reduction is conditioned on metric `val_acc` which is not available. Available metrics are: loss,accuracy,val_loss,val_accuracy,lr\n"
     ]
    },
    {
     "output_type": "stream",
     "name": "stdout",
     "text": [
      "6/6 - 23s - loss: 0.6405 - accuracy: 0.6566 - val_loss: 0.5784 - val_accuracy: 0.6964 - lr: 0.0010 - 23s/epoch - 4s/step\n",
      "Epoch 32/50\n"
     ]
    },
    {
     "output_type": "stream",
     "name": "stderr",
     "text": [
      "WARNING:tensorflow:Learning rate reduction is conditioned on metric `val_acc` which is not available. Available metrics are: loss,accuracy,val_loss,val_accuracy,lr\n"
     ]
    },
    {
     "output_type": "stream",
     "name": "stdout",
     "text": [
      "6/6 - 21s - loss: 0.6240 - accuracy: 0.6867 - val_loss: 0.5955 - val_accuracy: 0.8750 - lr: 0.0010 - 21s/epoch - 3s/step\n",
      "Epoch 33/50\n"
     ]
    },
    {
     "output_type": "stream",
     "name": "stderr",
     "text": [
      "WARNING:tensorflow:Learning rate reduction is conditioned on metric `val_acc` which is not available. Available metrics are: loss,accuracy,val_loss,val_accuracy,lr\n"
     ]
    },
    {
     "output_type": "stream",
     "name": "stdout",
     "text": [
      "6/6 - 21s - loss: 0.5933 - accuracy: 0.7289 - val_loss: 0.5653 - val_accuracy: 0.7857 - lr: 0.0010 - 21s/epoch - 3s/step\n",
      "Epoch 34/50\n"
     ]
    },
    {
     "output_type": "stream",
     "name": "stderr",
     "text": [
      "WARNING:tensorflow:Learning rate reduction is conditioned on metric `val_acc` which is not available. Available metrics are: loss,accuracy,val_loss,val_accuracy,lr\n"
     ]
    },
    {
     "output_type": "stream",
     "name": "stdout",
     "text": [
      "6/6 - 20s - loss: 0.6204 - accuracy: 0.6506 - val_loss: 0.5454 - val_accuracy: 0.8393 - lr: 0.0010 - 20s/epoch - 3s/step\n",
      "Epoch 35/50\n"
     ]
    },
    {
     "output_type": "stream",
     "name": "stderr",
     "text": [
      "WARNING:tensorflow:Learning rate reduction is conditioned on metric `val_acc` which is not available. Available metrics are: loss,accuracy,val_loss,val_accuracy,lr\n"
     ]
    },
    {
     "output_type": "stream",
     "name": "stdout",
     "text": [
      "6/6 - 20s - loss: 0.5640 - accuracy: 0.7048 - val_loss: 0.5043 - val_accuracy: 0.7857 - lr: 0.0010 - 20s/epoch - 3s/step\n",
      "Epoch 36/50\n"
     ]
    },
    {
     "output_type": "stream",
     "name": "stderr",
     "text": [
      "WARNING:tensorflow:Learning rate reduction is conditioned on metric `val_acc` which is not available. Available metrics are: loss,accuracy,val_loss,val_accuracy,lr\n"
     ]
    },
    {
     "output_type": "stream",
     "name": "stdout",
     "text": [
      "6/6 - 21s - loss: 0.5989 - accuracy: 0.6687 - val_loss: 0.5797 - val_accuracy: 0.6607 - lr: 0.0010 - 21s/epoch - 4s/step\n",
      "Epoch 37/50\n"
     ]
    },
    {
     "output_type": "stream",
     "name": "stderr",
     "text": [
      "WARNING:tensorflow:Learning rate reduction is conditioned on metric `val_acc` which is not available. Available metrics are: loss,accuracy,val_loss,val_accuracy,lr\n"
     ]
    },
    {
     "output_type": "stream",
     "name": "stdout",
     "text": [
      "6/6 - 21s - loss: 0.6184 - accuracy: 0.7048 - val_loss: 0.6145 - val_accuracy: 0.8393 - lr: 0.0010 - 21s/epoch - 4s/step\n",
      "Epoch 38/50\n"
     ]
    },
    {
     "output_type": "stream",
     "name": "stderr",
     "text": [
      "WARNING:tensorflow:Learning rate reduction is conditioned on metric `val_acc` which is not available. Available metrics are: loss,accuracy,val_loss,val_accuracy,lr\n"
     ]
    },
    {
     "output_type": "stream",
     "name": "stdout",
     "text": [
      "6/6 - 21s - loss: 0.6064 - accuracy: 0.6988 - val_loss: 0.5759 - val_accuracy: 0.8571 - lr: 0.0010 - 21s/epoch - 3s/step\n",
      "Epoch 39/50\n"
     ]
    },
    {
     "output_type": "stream",
     "name": "stderr",
     "text": [
      "WARNING:tensorflow:Learning rate reduction is conditioned on metric `val_acc` which is not available. Available metrics are: loss,accuracy,val_loss,val_accuracy,lr\n"
     ]
    },
    {
     "output_type": "stream",
     "name": "stdout",
     "text": [
      "6/6 - 25s - loss: 0.5733 - accuracy: 0.7048 - val_loss: 0.5186 - val_accuracy: 0.8571 - lr: 0.0010 - 25s/epoch - 4s/step\n",
      "Epoch 40/50\n"
     ]
    },
    {
     "output_type": "stream",
     "name": "stderr",
     "text": [
      "WARNING:tensorflow:Learning rate reduction is conditioned on metric `val_acc` which is not available. Available metrics are: loss,accuracy,val_loss,val_accuracy,lr\n"
     ]
    },
    {
     "output_type": "stream",
     "name": "stdout",
     "text": [
      "6/6 - 24s - loss: 0.5859 - accuracy: 0.6928 - val_loss: 0.4841 - val_accuracy: 0.8571 - lr: 0.0010 - 24s/epoch - 4s/step\n",
      "Epoch 41/50\n"
     ]
    },
    {
     "output_type": "stream",
     "name": "stderr",
     "text": [
      "WARNING:tensorflow:Learning rate reduction is conditioned on metric `val_acc` which is not available. Available metrics are: loss,accuracy,val_loss,val_accuracy,lr\n"
     ]
    },
    {
     "output_type": "stream",
     "name": "stdout",
     "text": [
      "6/6 - 30s - loss: 0.5667 - accuracy: 0.7169 - val_loss: 0.4653 - val_accuracy: 0.8750 - lr: 0.0010 - 30s/epoch - 5s/step\n",
      "Epoch 42/50\n"
     ]
    },
    {
     "output_type": "stream",
     "name": "stderr",
     "text": [
      "WARNING:tensorflow:Learning rate reduction is conditioned on metric `val_acc` which is not available. Available metrics are: loss,accuracy,val_loss,val_accuracy,lr\n"
     ]
    },
    {
     "output_type": "stream",
     "name": "stdout",
     "text": [
      "6/6 - 25s - loss: 0.6084 - accuracy: 0.7169 - val_loss: 0.5094 - val_accuracy: 0.7321 - lr: 0.0010 - 25s/epoch - 4s/step\n",
      "Epoch 43/50\n"
     ]
    },
    {
     "output_type": "stream",
     "name": "stderr",
     "text": [
      "WARNING:tensorflow:Learning rate reduction is conditioned on metric `val_acc` which is not available. Available metrics are: loss,accuracy,val_loss,val_accuracy,lr\n"
     ]
    },
    {
     "output_type": "stream",
     "name": "stdout",
     "text": [
      "6/6 - 24s - loss: 0.5673 - accuracy: 0.7108 - val_loss: 0.5267 - val_accuracy: 0.8393 - lr: 0.0010 - 24s/epoch - 4s/step\n",
      "Epoch 44/50\n"
     ]
    },
    {
     "output_type": "stream",
     "name": "stderr",
     "text": [
      "WARNING:tensorflow:Learning rate reduction is conditioned on metric `val_acc` which is not available. Available metrics are: loss,accuracy,val_loss,val_accuracy,lr\n"
     ]
    },
    {
     "output_type": "stream",
     "name": "stdout",
     "text": [
      "6/6 - 26s - loss: 0.5647 - accuracy: 0.7349 - val_loss: 0.5301 - val_accuracy: 0.7321 - lr: 0.0010 - 26s/epoch - 4s/step\n",
      "Epoch 45/50\n"
     ]
    },
    {
     "output_type": "stream",
     "name": "stderr",
     "text": [
      "WARNING:tensorflow:Learning rate reduction is conditioned on metric `val_acc` which is not available. Available metrics are: loss,accuracy,val_loss,val_accuracy,lr\n"
     ]
    },
    {
     "output_type": "stream",
     "name": "stdout",
     "text": [
      "6/6 - 28s - loss: 0.5990 - accuracy: 0.6627 - val_loss: 0.5281 - val_accuracy: 0.8036 - lr: 0.0010 - 28s/epoch - 5s/step\n",
      "Epoch 46/50\n"
     ]
    },
    {
     "output_type": "stream",
     "name": "stderr",
     "text": [
      "WARNING:tensorflow:Learning rate reduction is conditioned on metric `val_acc` which is not available. Available metrics are: loss,accuracy,val_loss,val_accuracy,lr\n"
     ]
    },
    {
     "output_type": "stream",
     "name": "stdout",
     "text": [
      "6/6 - 27s - loss: 0.5571 - accuracy: 0.7349 - val_loss: 0.5294 - val_accuracy: 0.8036 - lr: 0.0010 - 27s/epoch - 5s/step\n",
      "Epoch 47/50\n"
     ]
    },
    {
     "output_type": "stream",
     "name": "stderr",
     "text": [
      "WARNING:tensorflow:Learning rate reduction is conditioned on metric `val_acc` which is not available. Available metrics are: loss,accuracy,val_loss,val_accuracy,lr\n"
     ]
    },
    {
     "output_type": "stream",
     "name": "stdout",
     "text": [
      "6/6 - 22s - loss: 0.5564 - accuracy: 0.7289 - val_loss: 0.4893 - val_accuracy: 0.7500 - lr: 0.0010 - 22s/epoch - 4s/step\n",
      "Epoch 48/50\n"
     ]
    },
    {
     "output_type": "stream",
     "name": "stderr",
     "text": [
      "WARNING:tensorflow:Learning rate reduction is conditioned on metric `val_acc` which is not available. Available metrics are: loss,accuracy,val_loss,val_accuracy,lr\n"
     ]
    },
    {
     "output_type": "stream",
     "name": "stdout",
     "text": [
      "6/6 - 33s - loss: 0.5644 - accuracy: 0.7349 - val_loss: 0.4632 - val_accuracy: 0.8393 - lr: 0.0010 - 33s/epoch - 6s/step\n",
      "Epoch 49/50\n"
     ]
    },
    {
     "output_type": "stream",
     "name": "stderr",
     "text": [
      "WARNING:tensorflow:Learning rate reduction is conditioned on metric `val_acc` which is not available. Available metrics are: loss,accuracy,val_loss,val_accuracy,lr\n"
     ]
    },
    {
     "output_type": "stream",
     "name": "stdout",
     "text": [
      "6/6 - 23s - loss: 0.5498 - accuracy: 0.7470 - val_loss: 0.4690 - val_accuracy: 0.8036 - lr: 0.0010 - 23s/epoch - 4s/step\n",
      "Epoch 50/50\n"
     ]
    },
    {
     "output_type": "stream",
     "name": "stderr",
     "text": [
      "WARNING:tensorflow:Learning rate reduction is conditioned on metric `val_acc` which is not available. Available metrics are: loss,accuracy,val_loss,val_accuracy,lr\n"
     ]
    },
    {
     "output_type": "stream",
     "name": "stdout",
     "text": [
      "6/6 - 20s - loss: 0.5409 - accuracy: 0.7410 - val_loss: 0.4906 - val_accuracy: 0.7857 - lr: 0.0010 - 20s/epoch - 3s/step\n"
     ]
    }
   ],
   "source": [
    "# 設定一般自定義模型\n",
    "model = Sequential()\n",
    "model.add(Conv2D(32,(3,3),activation='relu',padding='same',input_shape=(224,224,1)))\n",
    "model.add(MaxPooling2D(pool_size=(2,2)))\n",
    "model.add(Conv2D(64,(3,3),activation=\"relu\",padding='same'))\n",
    "model.add(MaxPooling2D(pool_size=(2,2)))\n",
    "model.add(Dropout(0.5))\n",
    "model.add(Conv2D(64,(3,3),activation=\"relu\",padding='same'))\n",
    "model.add(MaxPooling2D(pool_size=(5,5)))\n",
    "\n",
    "model.add(Flatten())\n",
    "model.add(Dense(512,activation=\"relu\"))\n",
    "model.add(Dropout(0.5))\n",
    "model.add(Dense(2,activation=\"softmax\"))\n",
    "model.summary()\n",
    "model.compile(loss=\"categorical_crossentropy\",optimizer=\"adam\",metrics=[\"accuracy\"])\n",
    "# early_stopping = EarlyStopping(monitor='val_loss', patience=3, restore_best_weights=True)\n",
    "# modelcheckpoint = ModelCheckpoint(filepath=output_dir+\"/weights.{epoch:02d}.hdf5\")\n",
    "\"\"\"\n",
    "ReduceLROnPlateau : 當我們使用gradient descent進行權重更新時，\n",
    "如果 Learning rate 固定，很容易到後面 Loss 會降不下來\n",
    "而這個套件便是可以在我們設定的epoch內，\n",
    "若Loss沒有下降可以自動調整Learning rate衰減(這邊我們會設定為0.5倍)\n",
    "\"\"\"\n",
    "LR_function=ReduceLROnPlateau(monitor='val_acc',\n",
    "                             patience=3,\n",
    "                             # 3 epochs 內acc沒下降就要調整LR\n",
    "                             verbose=1,\n",
    "                             factor=0.5,\n",
    "                             # LR降為0.5\n",
    "                             min_lr=0.00001\n",
    "                             # 最小 LR 到0.00001就不再下降\n",
    "                             )\n",
    "history = model.fit(train_set,validation_data=test_set,epochs=50,batch_size=32,verbose=2, callbacks=[LR_function])"
   ],
   "metadata": {
    "ExecuteTime": {
     "end_time": "2023-11-10T17:22:38.912230Z",
     "start_time": "2023-11-10T17:21:56.492590Z"
    },
    "colab": {
     "base_uri": "https://localhost:8080/"
    },
    "id": "e3dd9bb566743acf",
    "outputId": "d0a8edbb-588f-4337-c3ed-a771e01fd41f"
   },
   "id": "e3dd9bb566743acf"
  },
  {
   "cell_type": "markdown",
   "source": [
    "## 4.3 效能評估"
   ],
   "metadata": {
    "id": "9tgzVB99rSTs"
   },
   "id": "9tgzVB99rSTs"
  },
  {
   "cell_type": "code",
   "execution_count": 9,
   "outputs": [
    {
     "output_type": "display_data",
     "data": {
      "text/plain": [
       "<Figure size 640x480 with 1 Axes>"
      ],
      "image/png": "[encoded data removed]"
     },
     "metadata": {}
    }
   ],
   "source": [
    "plt.plot(history.history['accuracy'])\n",
    "plt.plot(history.history['val_accuracy'])\n",
    "plt.title('model accuracy')\n",
    "plt.ylabel('accuracy')\n",
    "plt.xlabel('epoch')\n",
    "plt.legend(['train', 'test'], loc='upper left')\n",
    "plt.show()"
   ],
   "metadata": {
    "colab": {
     "base_uri": "https://localhost:8080/",
     "height": 472
    },
    "id": "fed357dca7fe4446",
    "outputId": "8c4fb80d-1a03-4e08-fe3c-8de80843ef1f"
   },
   "id": "fed357dca7fe4446"
  },
  {
   "cell_type": "code",
   "execution_count": null,
   "outputs": [],
   "source": [
    "#視以上執行結果指定較佳的權重\n",
    "model.load_weights(output_dir+\"/weights.09.hdf5\")"
   ],
   "metadata": {
    "id": "c44596ccc5210f92"
   },
   "id": "c44596ccc5210f92"
  },
  {
   "cell_type": "markdown",
   "source": [
    "# 5.總結"
   ],
   "metadata": {
    "id": "VyAwj5YvsNXa"
   },
   "id": "VyAwj5YvsNXa"
  },
  {
   "cell_type": "code",
   "source": [],
   "metadata": {
    "id": "6E9ipAwhhwpc"
   },
   "id": "6E9ipAwhhwpc",
   "execution_count": null,
   "outputs": []
  },
  {
   "cell_type": "code",
   "source": [],
   "metadata": {
    "id": "FplTFlQRh1jT"
   },
   "id": "FplTFlQRh1jT",
   "execution_count": null,
   "outputs": []
  },
  {
   "cell_type": "markdown",
   "source": [
    "# 6.資料來源\n",
    "### kaggle資料集 : Brain MRI Images for Brain Tumor Detection\n",
    "### 資料集解釋 : 總共253個檔案，其中no有98個檔案，Yes有155個檔案\n",
    "### [資料集鏈接][1]\n",
    "### [參考模型1][2]\n",
    "### [參考模型2][3]\n",
    "\n",
    "[1]:<https://www.kaggle.com/datasets/navoneel/brain-mri-images-for-brain-tumor-detection?select=yes> \"Brain MRI資料鏈接\"\n",
    "[2]: <https://www.kaggle.com/code/aissaasasd/brain-tumor-detector-92> \"參考模型1\"\n",
    "[3]: <https://www.kaggle.com/code/ruslankl/brain-tumor-detection-v1-0-cnn-vgg-16> \"參考模型2\""
   ],
   "metadata": {
    "id": "KMza6QFbh1yv"
   },
   "id": "KMza6QFbh1yv"
  }
 ],
 "metadata": {
  "kernelspec": {
   "display_name": "Python 3 (ipykernel)",
   "language": "python",
   "name": "python3"
  },
  "language_info": {
   "codemirror_mode": {
    "name": "ipython",
    "version": 3
   },
   "file_extension": ".py",
   "mimetype": "text/x-python",
   "name": "python",
   "nbconvert_exporter": "python",
   "pygments_lexer": "ipython3",
   "version": "3.11.5"
  },
  "colab": {
   "provenance": [],
   "toc_visible": true
  }
 },
 "nbformat": 4,
 "nbformat_minor": 5
}
